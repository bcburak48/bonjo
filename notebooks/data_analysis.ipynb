{
 "cells": [
  {
   "cell_type": "markdown",
   "id": "406ceecc-246a-4ddb-8781-45833a0eb3d3",
   "metadata": {},
   "source": [
    "# Kullanıcı Ziyaret Davranışları Analizi\n",
    "\n",
    "Bu notebook, kullanıcıların farklı mekanları ziyaret etme davranışlarını analiz eder ve kullanıcıları gruplandırır. Aşağıdaki adımları içerir:\n",
    "\n",
    "1. Veriyi yükleyin ve görselleştirin\n",
    "2. Kullanıcıları ziyaret davranışlarına göre gruplandırın\n",
    "3. Kullanıcıları ağırlıklı ziyaret davranışlarına göre gruplandırın\n",
    "4. Kullanıcıları belirli kategorilere göre sınıflandırın\n",
    "\n",
    "Başlamadan önce gerekli kütüphaneleri yükleyin:\n"
   ]
  },
  {
   "cell_type": "code",
   "execution_count": null,
   "id": "2c3dad61-9561-4fd9-84a5-e8b44af488af",
   "metadata": {},
   "outputs": [],
   "source": [
    "# Gerekli kütüphaneleri yükleyin\n",
    "!pip install -r ../requirements.txt"
   ]
  },
  {
   "cell_type": "code",
   "execution_count": null,
   "id": "98394fb8-6cba-4090-8788-b5f0854fc5ee",
   "metadata": {},
   "outputs": [],
   "source": [
    "import sys\n",
    "import os\n",
    "\n",
    "# Proje kök dizinini belirleyin\n",
    "project_root = os.path.abspath(\"..\")\n",
    "\n",
    "# `src` dizinini Python path'ine ekleyin\n",
    "src_path = os.path.join(project_root, \"src\")\n",
    "sys.path.append(src_path)\n",
    "\n",
    "# Eklediğiniz path'leri kontrol edin\n",
    "print(sys.path)"
   ]
  },
  {
   "cell_type": "markdown",
   "id": "4b73da38-dd04-4428-92be-2b7d94a81f73",
   "metadata": {},
   "source": [
    "# Veriyi Yükleyin ve Görselleştirin"
   ]
  },
  {
   "cell_type": "code",
   "execution_count": null,
   "id": "7173dfcd-e19d-4e5c-a175-b64982f543a1",
   "metadata": {},
   "outputs": [],
   "source": [
    "# Gerekli modülleri içe aktarın\n",
    "from data_loader import load_data\n",
    "from visualization import plot_venue_visits, plot_visits_over_time\n",
    "\n",
    "# Veriyi yükleyin\n",
    "file_path = \"../data/time_series_classification_data_100.json\"\n",
    "df = load_data(file_path)\n",
    "\n",
    "# Veriyi görselleştirin\n",
    "plot_venue_visits(df)\n",
    "plot_visits_over_time(df)\n"
   ]
  },
  {
   "cell_type": "markdown",
   "id": "c3f27d98-ca1b-4565-b36e-66ec86d2bd2a",
   "metadata": {},
   "source": [
    "# Kullanıcıları Ziyaret Davranışlarına Göre Gruplandırın"
   ]
  },
  {
   "cell_type": "code",
   "execution_count": null,
   "id": "ef545422-8228-489d-9d83-71a22aa8e7f6",
   "metadata": {},
   "outputs": [],
   "source": [
    "# Gerekli modülleri içe aktarın\n",
    "from feature_engineering import create_features\n",
    "from clustering import cluster_users\n",
    "\n",
    "# Özellikleri oluşturun\n",
    "user_venue_time = create_features(df)\n",
    "\n",
    "# Kullanıcıları gruplandırın\n",
    "clusters = cluster_users(user_venue_time, n_clusters=5)\n",
    "\n",
    "# Kullanıcıları gruplara atayın\n",
    "df['cluster'] = df['user'].map(dict(zip(user_venue_time.index, clusters)))\n",
    "\n",
    "# Grupları görselleştirin\n",
    "import matplotlib.pyplot as plt\n",
    "import seaborn as sns\n",
    "\n",
    "plt.figure(figsize=(14, 8))\n",
    "sns.scatterplot(data=df, x='day_of_month', y='hour', hue='cluster', palette='viridis', style='venue_type')\n",
    "plt.title('Ziyaret Davranışlarına Göre Kullanıcı Grupları')\n",
    "plt.xlabel('Ayın Günü')\n",
    "plt.ylabel('Günün Saati')\n",
    "plt.legend(title='Grup')\n",
    "plt.show()\n"
   ]
  },
  {
   "cell_type": "markdown",
   "id": "5cdff0eb-6f86-4cfe-bb90-3bef7cf9c700",
   "metadata": {},
   "source": [
    "# Kullanıcıları Ağırlıklı Ziyaret Davranışlarına Göre Gruplandırın"
   ]
  },
  {
   "cell_type": "code",
   "execution_count": null,
   "id": "a88e6742-990b-4554-8d6b-d8fee5dac7e2",
   "metadata": {},
   "outputs": [],
   "source": [
    "# Gerekli modülleri içe aktarın\n",
    "from feature_engineering import create_weighted_features\n",
    "from clustering import cluster_users_weighted\n",
    "\n",
    "# Ağırlıklı özellikleri oluşturun\n",
    "user_venue_time_weighted = create_weighted_features(df)\n",
    "\n",
    "# Kullanıcıları ağırlıklarla gruplandırın\n",
    "clusters_weighted = cluster_users_weighted(user_venue_time_weighted, n_clusters=5)\n",
    "\n",
    "# Ağırlıklı grupları kullanıcılara atayın\n",
    "df['cluster_weighted'] = df['user'].map(dict(zip(user_venue_time_weighted.index, clusters_weighted)))\n",
    "\n",
    "# Ağırlıklı grupları görselleştirin\n",
    "plt.figure(figsize=(14, 8))\n",
    "sns.scatterplot(data=df, x='day_of_month', y='hour', hue='cluster_weighted', palette='viridis', style='venue_type')\n",
    "plt.title('Ağırlıklı Ziyaret Davranışlarına Göre Kullanıcı Grupları')\n",
    "plt.xlabel('Ayın Günü')\n",
    "plt.ylabel('Günün Saati')\n",
    "plt.legend(title='Grup')\n",
    "plt.show()\n"
   ]
  },
  {
   "cell_type": "markdown",
   "id": "e526a713-2200-4f16-9b09-11c128c1ff7d",
   "metadata": {},
   "source": [
    "# Kullanıcıları Sınıflandırın"
   ]
  },
  {
   "cell_type": "code",
   "execution_count": null,
   "id": "dccf827b-83f7-40ca-9754-93c44da7202d",
   "metadata": {},
   "outputs": [],
   "source": [
    "# Gerekli modülleri içe aktarın\n",
    "from classification import classify_users\n",
    "\n",
    "# Kullanıcıları sınıflandırın\n",
    "user_classifications = classify_users(df)\n",
    "\n",
    "# Sınıflandırmaları gösterin\n",
    "print(user_classifications)\n"
   ]
  }
 ],
 "metadata": {
  "kernelspec": {
   "display_name": "Python 3 (ipykernel)",
   "language": "python",
   "name": "python3"
  },
  "language_info": {
   "codemirror_mode": {
    "name": "ipython",
    "version": 3
   },
   "file_extension": ".py",
   "mimetype": "text/x-python",
   "name": "python",
   "nbconvert_exporter": "python",
   "pygments_lexer": "ipython3",
   "version": "3.12.2"
  }
 },
 "nbformat": 4,
 "nbformat_minor": 5
}
